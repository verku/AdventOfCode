{
 "cells": [
  {
   "cell_type": "markdown",
   "metadata": {},
   "source": [
    "### First half"
   ]
  },
  {
   "cell_type": "code",
   "execution_count": 3,
   "metadata": {},
   "outputs": [
    {
     "name": "stdout",
     "output_type": "stream",
     "text": [
      "3390596\n"
     ]
    }
   ],
   "source": [
    "with open(\"input\", \"r\") as file:\n",
    "    totalFuel = 0\n",
    "    for line in file:\n",
    "        mass = int(line.strip())\n",
    "        fuel = (mass // 3) - 2 # // dividing and rounding down\n",
    "        totalFuel += fuel\n",
    "print(totalFuel)"
   ]
  },
  {
   "cell_type": "markdown",
   "metadata": {},
   "source": [
    "### Second half"
   ]
  },
  {
   "cell_type": "code",
   "execution_count": 55,
   "metadata": {},
   "outputs": [],
   "source": [
    "def required_fuel(m):\n",
    "    fuel = (m // 3) - 2\n",
    "    if fuel <= 0:\n",
    "        return 0\n",
    "    fuel += required_fuel(fuel)\n",
    "    return fuel"
   ]
  },
  {
   "cell_type": "code",
   "execution_count": 53,
   "metadata": {},
   "outputs": [
    {
     "name": "stdout",
     "output_type": "stream",
     "text": [
      "5083024\n"
     ]
    }
   ],
   "source": [
    "with open(\"input\", \"r\") as file:\n",
    "    \n",
    "    totalFuel = 0\n",
    "\n",
    "    for line in file:\n",
    "        mass = int(line.strip())\n",
    "        fuel = required_fuel(mass)\n",
    "        totalFuel += fuel\n",
    "\n",
    "print(totalFuel)"
   ]
  }
 ],
 "metadata": {
  "kernelspec": {
   "display_name": "Python 3",
   "language": "python",
   "name": "python3"
  },
  "language_info": {
   "codemirror_mode": {
    "name": "ipython",
    "version": 3
   },
   "file_extension": ".py",
   "mimetype": "text/x-python",
   "name": "python",
   "nbconvert_exporter": "python",
   "pygments_lexer": "ipython3",
   "version": "3.7.2"
  }
 },
 "nbformat": 4,
 "nbformat_minor": 2
}
