{
 "cells": [
  {
   "cell_type": "code",
   "execution_count": 2,
   "metadata": {},
   "outputs": [
    {
     "name": "stdout",
     "output_type": "stream",
     "text": [
      "3390596\n"
     ]
    }
   ],
   "source": [
    "with open(\"input\", \"r\") as f:\n",
    "    totalFuel = 0\n",
    "    for i in f:\n",
    "        mass = int(i.strip())\n",
    "        fuel = (mass // 3) - 2 # // dividing and rounding down\n",
    "        totalFuel = totalFuel + fuel\n",
    "print(totalFuel)"
   ]
  }
 ],
 "metadata": {
  "kernelspec": {
   "display_name": "Python 3",
   "language": "python",
   "name": "python3"
  },
  "language_info": {
   "codemirror_mode": {
    "name": "ipython",
    "version": 3
   },
   "file_extension": ".py",
   "mimetype": "text/x-python",
   "name": "python",
   "nbconvert_exporter": "python",
   "pygments_lexer": "ipython3",
   "version": "3.7.2"
  }
 },
 "nbformat": 4,
 "nbformat_minor": 2
}
