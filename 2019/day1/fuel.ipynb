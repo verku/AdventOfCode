{
 "cells": [
  {
   "cell_type": "markdown",
   "metadata": {},
   "source": [
    "### First half"
   ]
  },
  {
   "cell_type": "code",
   "execution_count": 3,
   "metadata": {},
   "outputs": [
    {
     "name": "stdout",
     "output_type": "stream",
     "text": [
      "3390596\n"
     ]
    }
   ],
   "source": [
    "with open(\"input\", \"r\") as f:\n",
    "    totalFuel = 0\n",
    "    for i in f:\n",
    "        mass = int(i.strip())\n",
    "        fuel = (mass // 3) - 2 # // dividing and rounding down\n",
    "        totalFuel += fuel\n",
    "print(totalFuel)"
   ]
  },
  {
   "cell_type": "markdown",
   "metadata": {},
   "source": [
    "## Second half"
   ]
  },
  {
   "cell_type": "code",
   "execution_count": 51,
   "metadata": {},
   "outputs": [
    {
     "name": "stdout",
     "output_type": "stream",
     "text": [
      "2\n",
      "14\n",
      "57\n",
      "192\n",
      "603\n",
      "1843\n",
      "5571\n",
      "16763\n",
      "50346\n",
      "50346\n"
     ]
    }
   ],
   "source": [
    "def required_fuel(m):\n",
    "    if m <= 0:\n",
    "        return 0\n",
    "    else:\n",
    "        fuel = (m // 3) - 2\n",
    "        if fuel <= 0:\n",
    "            return 0\n",
    "        else:\n",
    "            fuel += required_fuel(fuel)\n",
    "            print(fuel)\n",
    "            return fuel\n",
    "\n",
    "print(required_fuel(100756))"
   ]
  },
  {
   "cell_type": "code",
   "execution_count": 39,
   "metadata": {},
   "outputs": [
    {
     "name": "stdout",
     "output_type": "stream",
     "text": [
      "It's negative\n"
     ]
    }
   ],
   "source": [
    "number = -1\n",
    "\n",
    "if number <= 0:\n",
    "    print(\"It's negative\")\n",
    "else:\n",
    "    print(\"Nope, go on\")"
   ]
  },
  {
   "cell_type": "code",
   "execution_count": 15,
   "metadata": {},
   "outputs": [
    {
     "name": "stdout",
     "output_type": "stream",
     "text": [
      "2\n",
      "5082895\n"
     ]
    }
   ],
   "source": [
    "with open(\"input\", \"r\") as f:\n",
    "    \n",
    "    totalFuel = 0\n",
    "\n",
    "    for i in f:\n",
    "        mass = int(i.strip())\n",
    "        fuel = required_fuel(mass)\n",
    "        totalFuel += fuel\n",
    "\n",
    "print(totalFuel)"
   ]
  }
 ],
 "metadata": {
  "kernelspec": {
   "display_name": "Python 3",
   "language": "python",
   "name": "python3"
  },
  "language_info": {
   "codemirror_mode": {
    "name": "ipython",
    "version": 3
   },
   "file_extension": ".py",
   "mimetype": "text/x-python",
   "name": "python",
   "nbconvert_exporter": "python",
   "pygments_lexer": "ipython3",
   "version": "3.7.2"
  }
 },
 "nbformat": 4,
 "nbformat_minor": 2
}
